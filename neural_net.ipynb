{
 "cells": [
  {
   "cell_type": "code",
   "execution_count": 46,
   "metadata": {},
   "outputs": [],
   "source": [
    "import matplotlib.pyplot as plt \n",
    "import numpy as np\n",
    "import random\n",
    "import keras\n",
    "from sklearn.model_selection import KFold"
   ]
  },
  {
   "cell_type": "code",
   "execution_count": 47,
   "metadata": {},
   "outputs": [
    {
     "name": "stdout",
     "output_type": "stream",
     "text": [
      "X_train shape: (20000, 1000)\n",
      "y_train shape: (20000,)\n",
      "X_test shape: (10000, 1000)\n"
     ]
    }
   ],
   "source": [
    "# Load training and testing text file\n",
    "Data_train = np.loadtxt('training_data.txt', skiprows = 1)\n",
    "X_train = Data_train[:, 1:]\n",
    "y_train = Data_train[:, 0]\n",
    "X_test = np.loadtxt(\"test_data.txt\", skiprows = 1)\n",
    "print(\"X_train shape:\", X_train.shape)\n",
    "print(\"y_train shape:\", y_train.shape)\n",
    "print(\"X_test shape:\", X_test.shape)"
   ]
  },
  {
   "cell_type": "code",
   "execution_count": 48,
   "metadata": {
    "collapsed": true
   },
   "outputs": [],
   "source": [
    "# Normalize training and testing data\n",
    "for i in range(len(X_train[0])):\n",
    "    col = X_train[:, i]\n",
    "    mean = np.mean(col)\n",
    "    std = np.std(col)\n",
    "    X_train[:, i] = (col - mean) / std\n",
    "    X_test[:, i] = (X_test[:, i] - mean) / std"
   ]
  },
  {
   "cell_type": "code",
   "execution_count": 51,
   "metadata": {},
   "outputs": [
    {
     "name": "stdout",
     "output_type": "stream",
     "text": [
      "IN: [    0     1     2 ..., 19996 19997 19998] OUT: [    8     9    12 ..., 19990 19995 19999]\n",
      "(13333, 1000) (6667, 1000)\n"
     ]
    }
   ],
   "source": [
    "from sklearn.model_selection import KFold\n",
    "kf = KFold(n_splits=3, shuffle=True, random_state=0)\n",
    "in_index, out_index = list(kf.split(X_train))[0]\n",
    "print(\"IN:\", in_index, \"OUT:\", out_index)\n",
    "X_in, X_out = X_train[in_index], X_train[out_index]\n",
    "y_in, y_out = y_train[in_index], y_train[out_index]\n",
    "print(X_in.shape, X_out.shape)"
   ]
  },
  {
   "cell_type": "code",
   "execution_count": 52,
   "metadata": {},
   "outputs": [
    {
     "name": "stdout",
     "output_type": "stream",
     "text": [
      "OUT1: [   0    2    3 ..., 6663 6664 6666] OUT2: [   1    4    6 ..., 6660 6662 6665]\n",
      "(4444, 1000) (2223, 1000)\n"
     ]
    }
   ],
   "source": [
    "out_index_1, out_index_2 = list(kf.split(X_out))[0]\n",
    "print(\"OUT1:\", out_index_1, \"OUT2:\", out_index_2)\n",
    "X_out_1, X_out_2 = X_out[out_index_1], X_out[out_index_2]\n",
    "y_out_1, y_out = y_out[out_index_1], y_out[out_index_2]\n",
    "print(X_out_1.shape, X_out_2.shape)"
   ]
  },
  {
   "cell_type": "code",
   "execution_count": 55,
   "metadata": {},
   "outputs": [
    {
     "name": "stdout",
     "output_type": "stream",
     "text": [
      "_________________________________________________________________\n",
      "Layer (type)                 Output Shape              Param #   \n",
      "=================================================================\n",
      "dense_53 (Dense)             (None, 100)               100100    \n",
      "_________________________________________________________________\n",
      "dropout_25 (Dropout)         (None, 100)               0         \n",
      "_________________________________________________________________\n",
      "dense_54 (Dense)             (None, 100)               10100     \n",
      "_________________________________________________________________\n",
      "dropout_26 (Dropout)         (None, 100)               0         \n",
      "_________________________________________________________________\n",
      "dense_55 (Dense)             (None, 50)                5050      \n",
      "_________________________________________________________________\n",
      "dense_56 (Dense)             (None, 1)                 51        \n",
      "=================================================================\n",
      "Total params: 115,301\n",
      "Trainable params: 115,301\n",
      "Non-trainable params: 0\n",
      "_________________________________________________________________\n"
     ]
    }
   ],
   "source": [
    "from keras.models import Sequential\n",
    "from keras.layers import Dense, Activation, Dropout\n",
    "from keras.layers import Conv2D, MaxPooling2D, Flatten, BatchNormalization\n",
    "from keras import regularizers\n",
    "\n",
    "# Build sequential model\n",
    "model = Sequential()\n",
    "\n",
    "# Hidden layers\n",
    "model.add(Dense(100, activation=\"sigmoid\", input_shape=(1000,)))\n",
    "model.add(Dropout(0.2))\n",
    "model.add(Dense(100, activation=\"sigmoid\"))\n",
    "model.add(Dropout(0.2))\n",
    "model.add(Dense(50, activation=\"sigmoid\"))\n",
    "\n",
    "# Output layer\n",
    "model.add(Dense(1, activation=\"sigmoid\"))\n",
    "# Print a summary\n",
    "model.summary()\n",
    "# Compile\n",
    "model.compile(loss='binary_crossentropy',optimizer='adam', metrics=['accuracy'])"
   ]
  },
  {
   "cell_type": "code",
   "execution_count": 56,
   "metadata": {},
   "outputs": [
    {
     "name": "stdout",
     "output_type": "stream",
     "text": [
      "Train on 16000 samples, validate on 4000 samples\n",
      "Epoch 1/4\n",
      "16000/16000 [==============================] - 5s 340us/step - loss: 0.4410 - acc: 0.7944 - val_loss: 0.3507 - val_acc: 0.8515\n",
      "Epoch 2/4\n",
      "16000/16000 [==============================] - 4s 264us/step - loss: 0.3284 - acc: 0.8629 - val_loss: 0.3468 - val_acc: 0.8570\n",
      "Epoch 3/4\n",
      "16000/16000 [==============================] - 5s 283us/step - loss: 0.3022 - acc: 0.8741 - val_loss: 0.3475 - val_acc: 0.8530\n",
      "Epoch 4/4\n",
      "16000/16000 [==============================] - 5s 292us/step - loss: 0.2813 - acc: 0.8810 - val_loss: 0.3538 - val_acc: 0.8515\n"
     ]
    }
   ],
   "source": [
    "fit = model.fit(X_train, y_train, batch_size=32, epochs=4, validation_split=0.2, shuffle=True, verbose=1)"
   ]
  },
  {
   "cell_type": "code",
   "execution_count": 58,
   "metadata": {},
   "outputs": [
    {
     "name": "stdout",
     "output_type": "stream",
     "text": [
      "Epoch 1/5\n",
      "13333/13333 [==============================] - 4s 276us/step - loss: 0.2784 - acc: 0.8810\n",
      "Epoch 2/5\n",
      "13333/13333 [==============================] - 4s 264us/step - loss: 0.2478 - acc: 0.8957\n",
      "Epoch 3/5\n",
      "13333/13333 [==============================] - 3s 243us/step - loss: 0.2241 - acc: 0.8999\n",
      "Epoch 4/5\n",
      "13333/13333 [==============================] - 4s 277us/step - loss: 0.2054 - acc: 0.9074\n",
      "Epoch 5/5\n",
      "13333/13333 [==============================] - 3s 258us/step - loss: 0.1852 - acc: 0.9134\n"
     ]
    }
   ],
   "source": [
    "fit = model.fit(X_in, y_in, batch_size=32, epochs=5, shuffle=True, verbose=1)"
   ]
  },
  {
   "cell_type": "code",
   "execution_count": 57,
   "metadata": {
    "collapsed": true
   },
   "outputs": [],
   "source": [
    "def make_submission_file(pred, filename):\n",
    "    super_threshold_indices = pred >= 0.5\n",
    "    pred.fill(0)\n",
    "    pred[super_threshold_indices] = 1\n",
    "\n",
    "    submission = [[i+1, int(pred[i])] for i in range(len(pred))]\n",
    "    submission.insert(0, ['Id','Prediction'])\n",
    "    with open(filename, 'w') as f:\n",
    "        for line in submission:\n",
    "            f.write(','.join(map(str, line)) + '\\n')"
   ]
  },
  {
   "cell_type": "code",
   "execution_count": 60,
   "metadata": {},
   "outputs": [],
   "source": [
    "# Predict X_out_1 and X_out_2\n",
    "pred1 = model.predict(X_out_1)\n",
    "pred2 = model.predict(X_out_2)\n",
    "make_submission_file(pred1, \"out1_neuralnet.csv\")\n",
    "make_submission_file(pred2, \"out2_neuralnet.csv\")"
   ]
  },
  {
   "cell_type": "code",
   "execution_count": 61,
   "metadata": {},
   "outputs": [
    {
     "name": "stdout",
     "output_type": "stream",
     "text": [
      "_________________________________________________________________\n",
      "Layer (type)                 Output Shape              Param #   \n",
      "=================================================================\n",
      "dense_57 (Dense)             (None, 100)               100100    \n",
      "_________________________________________________________________\n",
      "dropout_27 (Dropout)         (None, 100)               0         \n",
      "_________________________________________________________________\n",
      "dense_58 (Dense)             (None, 100)               10100     \n",
      "_________________________________________________________________\n",
      "dropout_28 (Dropout)         (None, 100)               0         \n",
      "_________________________________________________________________\n",
      "dense_59 (Dense)             (None, 50)                5050      \n",
      "_________________________________________________________________\n",
      "dense_60 (Dense)             (None, 1)                 51        \n",
      "=================================================================\n",
      "Total params: 115,301\n",
      "Trainable params: 115,301\n",
      "Non-trainable params: 0\n",
      "_________________________________________________________________\n",
      "Epoch 1/5\n",
      "20000/20000 [==============================] - 6s 282us/step - loss: 0.4216 - acc: 0.8071\n",
      "Epoch 2/5\n",
      "20000/20000 [==============================] - 5s 242us/step - loss: 0.3264 - acc: 0.8614\n",
      "Epoch 3/5\n",
      "20000/20000 [==============================] - 5s 229us/step - loss: 0.3029 - acc: 0.8712\n",
      "Epoch 4/5\n",
      "20000/20000 [==============================] - 5s 237us/step - loss: 0.2833 - acc: 0.8777\n",
      "Epoch 5/5\n",
      "20000/20000 [==============================] - 5s 244us/step - loss: 0.2612 - acc: 0.8858\n"
     ]
    }
   ],
   "source": [
    "# Train on the entire training dataset\n",
    "\n",
    "\n",
    "# Build sequential model\n",
    "model = Sequential()\n",
    "\n",
    "# Hidden layers\n",
    "model.add(Dense(100, activation=\"sigmoid\", input_shape=(1000,)))\n",
    "model.add(Dropout(0.2))\n",
    "model.add(Dense(100, activation=\"sigmoid\"))\n",
    "model.add(Dropout(0.2))\n",
    "model.add(Dense(50, activation=\"sigmoid\"))\n",
    "\n",
    "# Output layer\n",
    "model.add(Dense(1, activation=\"sigmoid\"))\n",
    "# Print a summary\n",
    "model.summary()\n",
    "# Compile\n",
    "model.compile(loss='binary_crossentropy',optimizer='adam', metrics=['accuracy'])\n",
    "# Fit\n",
    "fit = model.fit(X_train, y_train, batch_size=32, epochs=5, shuffle=True, verbose=1)\n",
    "\n",
    "# Make predictions\n",
    "pred = model.predict(X_test)\n",
    "make_submission_file(pred, \"test_neuralnet.csv\")"
   ]
  },
  {
   "cell_type": "code",
   "execution_count": 62,
   "metadata": {},
   "outputs": [
    {
     "name": "stdout",
     "output_type": "stream",
     "text": [
      "[[ 1.]\n",
      " [ 1.]\n",
      " [ 0.]\n",
      " [ 0.]\n",
      " [ 0.]]\n"
     ]
    }
   ],
   "source": [
    "print(pred[0:5])"
   ]
  },
  {
   "cell_type": "code",
   "execution_count": null,
   "metadata": {
    "collapsed": true
   },
   "outputs": [],
   "source": []
  }
 ],
 "metadata": {
  "kernelspec": {
   "display_name": "Python 3",
   "language": "python",
   "name": "python3"
  },
  "language_info": {
   "codemirror_mode": {
    "name": "ipython",
    "version": 3
   },
   "file_extension": ".py",
   "mimetype": "text/x-python",
   "name": "python",
   "nbconvert_exporter": "python",
   "pygments_lexer": "ipython3",
   "version": "3.6.2"
  }
 },
 "nbformat": 4,
 "nbformat_minor": 2
}
