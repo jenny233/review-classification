{
 "cells": [
  {
   "cell_type": "code",
   "execution_count": 3,
   "metadata": {},
   "outputs": [
    {
     "name": "stderr",
     "output_type": "stream",
     "text": [
      "Using TensorFlow backend.\n"
     ]
    }
   ],
   "source": [
    "import matplotlib.pyplot as plt \n",
    "import numpy as np\n",
    "import random\n",
    "import keras\n",
    "%matplotlib inline"
   ]
  },
  {
   "cell_type": "code",
   "execution_count": 4,
   "metadata": {},
   "outputs": [
    {
     "name": "stdout",
     "output_type": "stream",
     "text": [
      "X_train shape: (20000, 1000)\n",
      "y_train shape: (20000,)\n"
     ]
    }
   ],
   "source": [
    "# Load training text file\n",
    "Data_train = np.loadtxt('training_data.txt', skiprows = 1)\n",
    "X_train = Data_train[:, 1:]\n",
    "y_train = Data_train[:, 0]\n",
    "print(\"X_train shape:\", X_train.shape)\n",
    "print(\"y_train shape:\", y_train.shape)"
   ]
  },
  {
   "cell_type": "code",
   "execution_count": 20,
   "metadata": {},
   "outputs": [
    {
     "name": "stdout",
     "output_type": "stream",
     "text": [
      "_________________________________________________________________\n",
      "Layer (type)                 Output Shape              Param #   \n",
      "=================================================================\n",
      "dense_30 (Dense)             (None, 500)               500500    \n",
      "_________________________________________________________________\n",
      "dropout_3 (Dropout)          (None, 500)               0         \n",
      "_________________________________________________________________\n",
      "dense_31 (Dense)             (None, 100)               50100     \n",
      "_________________________________________________________________\n",
      "dense_32 (Dense)             (None, 1)                 101       \n",
      "=================================================================\n",
      "Total params: 550,701\n",
      "Trainable params: 550,701\n",
      "Non-trainable params: 0\n",
      "_________________________________________________________________\n"
     ]
    }
   ],
   "source": [
    "from keras.models import Sequential\n",
    "from keras.layers import Dense, Activation, Dropout\n",
    "from keras.layers import Conv2D, MaxPooling2D, Flatten, BatchNormalization\n",
    "from keras import regularizers\n",
    "\n",
    "# Build sequential model\n",
    "model = Sequential()\n",
    "\n",
    "# Hidden layers\n",
    "model.add(Dense(500, activation=\"tanh\", input_shape=(1000,)))\n",
    "model.add(Dropout(0.2))\n",
    "model.add(Dense(100, activation=\"tanh\"))\n",
    "\n",
    "# Output layer\n",
    "model.add(Dense(1, activation=\"sigmoid\"))\n",
    "# Print a summary\n",
    "model.summary()\n",
    "# Compile\n",
    "model.compile(loss='binary_crossentropy',optimizer='adam', metrics=['accuracy'])"
   ]
  },
  {
   "cell_type": "code",
   "execution_count": 21,
   "metadata": {},
   "outputs": [
    {
     "name": "stdout",
     "output_type": "stream",
     "text": [
      "Train on 16000 samples, validate on 4000 samples\n",
      "Epoch 1/10\n",
      "16000/16000 [==============================] - 4s 257us/step - loss: 0.4032 - acc: 0.8187 - val_loss: 0.3485 - val_acc: 0.8490\n",
      "Epoch 2/10\n",
      "16000/16000 [==============================] - 4s 231us/step - loss: 0.3286 - acc: 0.8563 - val_loss: 0.3519 - val_acc: 0.8450\n",
      "Epoch 3/10\n",
      "16000/16000 [==============================] - 4s 228us/step - loss: 0.3078 - acc: 0.8663 - val_loss: 0.3525 - val_acc: 0.8472\n",
      "Epoch 4/10\n",
      "16000/16000 [==============================] - 4s 234us/step - loss: 0.2893 - acc: 0.8735 - val_loss: 0.3598 - val_acc: 0.8475\n",
      "Epoch 5/10\n",
      "16000/16000 [==============================] - 4s 229us/step - loss: 0.2694 - acc: 0.8815 - val_loss: 0.3586 - val_acc: 0.8490\n",
      "Epoch 6/10\n",
      "16000/16000 [==============================] - 4s 225us/step - loss: 0.2463 - acc: 0.8959 - val_loss: 0.3636 - val_acc: 0.8482\n",
      "Epoch 7/10\n",
      "16000/16000 [==============================] - 4s 241us/step - loss: 0.2232 - acc: 0.9069 - val_loss: 0.3728 - val_acc: 0.8452\n",
      "Epoch 8/10\n",
      "16000/16000 [==============================] - 4s 223us/step - loss: 0.1963 - acc: 0.9243 - val_loss: 0.3803 - val_acc: 0.8365\n",
      "Epoch 9/10\n",
      "16000/16000 [==============================] - 3s 210us/step - loss: 0.1689 - acc: 0.9382 - val_loss: 0.3914 - val_acc: 0.8387\n",
      "Epoch 10/10\n",
      "16000/16000 [==============================] - 3s 211us/step - loss: 0.1403 - acc: 0.9547 - val_loss: 0.4120 - val_acc: 0.8393\n"
     ]
    }
   ],
   "source": [
    "fit = model.fit(X_train, y_train, batch_size=128, epochs=10, validation_split=0.2, shuffle=True, verbose=1)"
   ]
  },
  {
   "cell_type": "code",
   "execution_count": 7,
   "metadata": {},
   "outputs": [
    {
     "name": "stdout",
     "output_type": "stream",
     "text": [
      "20000/20000 [==============================] - 1s 65us/step\n",
      "Test score: 0.000114548230696\n",
      "Test accuracy: 0.99995\n"
     ]
    }
   ],
   "source": [
    "## Printing the accuracy of our model, according to the loss function specified in model.compile above\n",
    "score = model.evaluate(X_train, y_train, verbose=1)\n",
    "print('Test score:', score[0])\n",
    "print('Test accuracy:', score[1])"
   ]
  },
  {
   "cell_type": "code",
   "execution_count": null,
   "metadata": {
    "collapsed": true
   },
   "outputs": [],
   "source": []
  },
  {
   "cell_type": "code",
   "execution_count": null,
   "metadata": {
    "collapsed": true
   },
   "outputs": [],
   "source": []
  }
 ],
 "metadata": {
  "kernelspec": {
   "display_name": "Python 3",
   "language": "python",
   "name": "python3"
  }
 },
 "nbformat": 4,
 "nbformat_minor": 2
}
