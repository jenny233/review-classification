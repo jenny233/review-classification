{
 "cells": [
  {
   "cell_type": "code",
   "execution_count": 19,
   "metadata": {},
   "outputs": [],
   "source": [
    "import matplotlib.pyplot as plt \n",
    "import numpy as np\n",
    "import random\n",
    "import keras\n",
    "%matplotlib inline"
   ]
  },
  {
   "cell_type": "code",
   "execution_count": 20,
   "metadata": {},
   "outputs": [
    {
     "name": "stdout",
     "output_type": "stream",
     "text": [
      "X_train shape: (20000, 1000)\n",
      "y_train shape: (20000,)\n"
     ]
    }
   ],
   "source": [
    "# Load training text file\n",
    "Data_train = np.loadtxt('training_data.txt', skiprows = 1)\n",
    "X_train = Data_train[:, 1:]\n",
    "y_train = Data_train[:, 0]\n",
    "print(\"X_train shape:\", X_train.shape)\n",
    "print(\"y_train shape:\", y_train.shape)"
   ]
  },
  {
   "cell_type": "code",
   "execution_count": 21,
   "metadata": {},
   "outputs": [],
   "source": [
    "# Normalize training data\n",
    "for i in range(len(X_train[0])):\n",
    "    col = X_train[:, i]\n",
    "    mean = np.mean(col)\n",
    "    std = np.std(col)\n",
    "    X_train[:, i] = (col - mean) / std"
   ]
  },
  {
   "cell_type": "code",
   "execution_count": 211,
   "metadata": {},
   "outputs": [
    {
     "name": "stdout",
     "output_type": "stream",
     "text": [
      "_________________________________________________________________\n",
      "Layer (type)                 Output Shape              Param #   \n",
      "=================================================================\n",
      "dense_339 (Dense)            (None, 300)               300300    \n",
      "_________________________________________________________________\n",
      "dropout_222 (Dropout)        (None, 300)               0         \n",
      "_________________________________________________________________\n",
      "dense_340 (Dense)            (None, 200)               60200     \n",
      "_________________________________________________________________\n",
      "dense_341 (Dense)            (None, 50)                10050     \n",
      "_________________________________________________________________\n",
      "dense_342 (Dense)            (None, 1)                 51        \n",
      "=================================================================\n",
      "Total params: 370,601\n",
      "Trainable params: 370,601\n",
      "Non-trainable params: 0\n",
      "_________________________________________________________________\n"
     ]
    }
   ],
   "source": [
    "from keras.models import Sequential\n",
    "from keras.layers import Dense, Activation, Dropout\n",
    "from keras.layers import Conv2D, MaxPooling2D, Flatten, BatchNormalization\n",
    "from keras import regularizers\n",
    "\n",
    "# Build sequential model\n",
    "model = Sequential()\n",
    "\n",
    "# Hidden layers\n",
    "model.add(Dense(300, activation=\"sigmoid\", input_shape=(1000,)))\n",
    "model.add(Dropout(0.4))\n",
    "model.add(Dense(200, activation=\"sigmoid\", kernel_regularizer=regularizers.l2(0.01)))\n",
    "# model.add(Dropout(0.4))\n",
    "model.add(Dense(50, activation=\"sigmoid\", kernel_regularizer=regularizers.l2(0.01)))\n",
    "# Output layer\n",
    "model.add(Dense(1, activation=\"sigmoid\"))\n",
    "# Print a summary\n",
    "model.summary()\n",
    "# Compile\n",
    "model.compile(loss='binary_crossentropy',optimizer='adam', metrics=['accuracy'])"
   ]
  },
  {
   "cell_type": "code",
   "execution_count": 212,
   "metadata": {},
   "outputs": [
    {
     "name": "stdout",
     "output_type": "stream",
     "text": [
      "Train on 16000 samples, validate on 4000 samples\n",
      "Epoch 1/10\n",
      "16000/16000 [==============================] - 7s 448us/step - loss: 2.4504 - acc: 0.6511 - val_loss: 1.3681 - val_acc: 0.8090\n",
      "Epoch 2/10\n",
      "16000/16000 [==============================] - 2s 105us/step - loss: 0.9215 - acc: 0.8333 - val_loss: 0.6509 - val_acc: 0.8380\n",
      "Epoch 3/10\n",
      "16000/16000 [==============================] - 2s 107us/step - loss: 0.5352 - acc: 0.8619 - val_loss: 0.4949 - val_acc: 0.8530\n",
      "Epoch 4/10\n",
      "16000/16000 [==============================] - 2s 107us/step - loss: 0.4406 - acc: 0.8690 - val_loss: 0.4531 - val_acc: 0.8537\n",
      "Epoch 5/10\n",
      "16000/16000 [==============================] - 2s 119us/step - loss: 0.4071 - acc: 0.8745 - val_loss: 0.4370 - val_acc: 0.8515\n",
      "Epoch 6/10\n",
      "16000/16000 [==============================] - 2s 111us/step - loss: 0.3884 - acc: 0.8771 - val_loss: 0.4292 - val_acc: 0.8510\n",
      "Epoch 7/10\n",
      "16000/16000 [==============================] - 2s 114us/step - loss: 0.3791 - acc: 0.8793 - val_loss: 0.4236 - val_acc: 0.8528\n",
      "Epoch 8/10\n",
      "16000/16000 [==============================] - 2s 106us/step - loss: 0.3718 - acc: 0.8795 - val_loss: 0.4238 - val_acc: 0.8523\n",
      "Epoch 9/10\n",
      "16000/16000 [==============================] - 2s 107us/step - loss: 0.3650 - acc: 0.8819 - val_loss: 0.4160 - val_acc: 0.8507\n",
      "Epoch 10/10\n",
      "16000/16000 [==============================] - 2s 109us/step - loss: 0.3557 - acc: 0.8844 - val_loss: 0.4123 - val_acc: 0.8535\n"
     ]
    }
   ],
   "source": [
    "fit = model.fit(X_train, y_train, batch_size=300, epochs=10, validation_split=0.2, shuffle=True, verbose=1)"
   ]
  },
  {
   "cell_type": "code",
   "execution_count": 94,
   "metadata": {},
   "outputs": [
    {
     "name": "stdout",
     "output_type": "stream",
     "text": [
      "20000/20000 [==============================] - 1s 75us/step\n",
      "Training score: 0.238491754043\n",
      "Training accuracy: 0.91395\n"
     ]
    }
   ],
   "source": [
    "## Printing the accuracy of our model, according to the loss function specified in model.compile above\n",
    "score = model.evaluate(X_train, y_train, verbose=1)\n",
    "print('Training score:', score[0])\n",
    "print('Training accuracy:', score[1])"
   ]
  },
  {
   "cell_type": "code",
   "execution_count": 95,
   "metadata": {},
   "outputs": [
    {
     "name": "stdout",
     "output_type": "stream",
     "text": [
      "Epoch 1/5\n",
      "20000/20000 [==============================] - 5s 239us/step - loss: 0.4975 - acc: 0.7554\n",
      "Epoch 2/5\n",
      "20000/20000 [==============================] - 3s 147us/step - loss: 0.3345 - acc: 0.8587\n",
      "Epoch 3/5\n",
      "20000/20000 [==============================] - 3s 141us/step - loss: 0.3047 - acc: 0.8719\n",
      "Epoch 4/5\n",
      "20000/20000 [==============================] - 3s 143us/step - loss: 0.2840 - acc: 0.8825\n",
      "Epoch 5/5\n",
      "20000/20000 [==============================] - 3s 133us/step - loss: 0.2670 - acc: 0.8881\n"
     ]
    }
   ],
   "source": [
    "# Train on the entire training dataset\n",
    "model = Sequential()\n",
    "# Layers\n",
    "model.add(Dense(500, activation=\"tanh\", input_shape=(1000,)))\n",
    "model.add(Dropout(0.5))\n",
    "model.add(Dense(100, activation=\"sigmoid\"))\n",
    "model.add(Dropout(0.4))\n",
    "model.add(Dense(1, activation=\"sigmoid\"))\n",
    "# Compile\n",
    "model.compile(loss='binary_crossentropy',optimizer='adam', metrics=['accuracy'])\n",
    "# Fit\n",
    "fit = model.fit(X_train, y_train, batch_size=256, epochs=5, shuffle=True, verbose=1)\n",
    "\n",
    "# Make predictions\n",
    "X_test = np.loadtxt('test_data.txt', skiprows = 1)\n",
    "\n",
    "pred = model.predict(X_test)\n",
    "super_threshold_indices = pred >= 0.5\n",
    "pred.fill(0)\n",
    "pred[super_threshold_indices] = 1\n",
    "\n",
    "submission = [[i+1, int(pred[i])] for i in range(len(pred))]\n",
    "submission.insert(0, ['Id','Prediction'])\n",
    "with open('submission_neural_net.csv', 'w') as f:\n",
    "    for line in submission:\n",
    "        f.write(','.join(map(str, line)) + '\\n')"
   ]
  },
  {
   "cell_type": "code",
   "execution_count": 62,
   "metadata": {},
   "outputs": [
    {
     "name": "stdout",
     "output_type": "stream",
     "text": [
      "[[ 1.]\n",
      " [ 1.]\n",
      " [ 0.]\n",
      " [ 0.]\n",
      " [ 0.]]\n"
     ]
    }
   ],
   "source": [
    "print(pred[0:5])"
   ]
  },
  {
   "cell_type": "code",
   "execution_count": null,
   "metadata": {
    "collapsed": true
   },
   "outputs": [],
   "source": []
  }
 ],
 "metadata": {
  "kernelspec": {
   "display_name": "Python 3",
   "language": "python",
   "name": "python3"
  },
  "language_info": {
   "codemirror_mode": {
    "name": "ipython",
    "version": 3
   },
   "file_extension": ".py",
   "mimetype": "text/x-python",
   "name": "python",
   "nbconvert_exporter": "python",
   "pygments_lexer": "ipython3",
   "version": "3.6.0"
  }
 },
 "nbformat": 4,
 "nbformat_minor": 2
}
