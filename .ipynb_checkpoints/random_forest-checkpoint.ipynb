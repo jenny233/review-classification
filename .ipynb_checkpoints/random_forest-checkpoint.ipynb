{
 "cells": [
  {
   "cell_type": "code",
   "execution_count": 1,
   "metadata": {
    "collapsed": true
   },
   "outputs": [],
   "source": [
    "from sklearn import tree\n",
    "from sklearn.ensemble import RandomForestClassifier\n",
    "import matplotlib.pyplot as plt\n",
    "import numpy as np\n",
    "from sklearn.model_selection import KFold\n",
    "\n",
    "# Seed the random number generator:\n",
    "np.random.seed(1)"
   ]
  },
  {
   "cell_type": "code",
   "execution_count": 2,
   "metadata": {},
   "outputs": [
    {
     "name": "stdout",
     "output_type": "stream",
     "text": [
      "(20000, 1000)\n"
     ]
    }
   ],
   "source": [
    "y = np.loadtxt('training_data.txt', skiprows = 1, usecols = 0)\n",
    "X = np.loadtxt('training_data.txt',skiprows = 1)[:,1:]\n",
    "print(X.shape)"
   ]
  },
  {
   "cell_type": "code",
   "execution_count": null,
   "metadata": {
    "collapsed": true
   },
   "outputs": [],
   "source": [
    "def test_model_maxdepths(clf, X, y, maxdepths):\n",
    "    kf = KFold(n_splits = 2)\n",
    "    inds = [ind for ind in kf.split(X, y)]\n",
    "    acc = np.zeros(len(maxdepths))\n",
    "\n",
    "    for p in range(len(inds)):\n",
    "        train, val = inds[p]\n",
    "        for i in range(len(maxdepths)):\n",
    "            clf.set_params(max_depth = maxdepths[i])\n",
    "            clf.fit(X[train], y[train])\n",
    "            pred = clf.predict(X[val])\n",
    "            acc[i] += np.sum(np.equal(pred, y[val]).astype(int)) / len(y[val])\n",
    "\n",
    "    acc /= len(inds)\n",
    "    \n",
    "    return acc\n"
   ]
  },
  {
   "cell_type": "code",
   "execution_count": null,
   "metadata": {},
   "outputs": [],
   "source": [
    "max_depths = list(range(30,80, 10))\n",
    "clf = RandomForestClassifier(n_estimators = 1000, criterion = 'gini')\n",
    "print(test_model_maxdepths(clf, X, y, max_depths))"
   ]
  },
  {
   "cell_type": "code",
   "execution_count": null,
   "metadata": {
    "collapsed": true
   },
   "outputs": [],
   "source": []
  }
 ],
 "metadata": {
  "kernelspec": {
   "display_name": "Python 3",
   "language": "python",
   "name": "python3"
  },
  "language_info": {
   "codemirror_mode": {
    "name": "ipython",
    "version": 3
   },
   "file_extension": ".py",
   "mimetype": "text/x-python",
   "name": "python",
   "nbconvert_exporter": "python",
   "pygments_lexer": "ipython3",
   "version": "3.6.2"
  }
 },
 "nbformat": 4,
 "nbformat_minor": 2
}
