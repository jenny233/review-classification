{
 "cells": [
  {
   "cell_type": "code",
   "execution_count": 32,
   "metadata": {
    "collapsed": true
   },
   "outputs": [],
   "source": [
    "import numpy as np\n",
    "import random\n",
    "from sklearn.linear_model import LogisticRegression\n",
    "from sklearn.model_selection import GridSearchCV"
   ]
  },
  {
   "cell_type": "code",
   "execution_count": 60,
   "metadata": {},
   "outputs": [
    {
     "name": "stdout",
     "output_type": "stream",
     "text": [
      "(20000, 4) (20000,) (10000, 4)\n"
     ]
    }
   ],
   "source": [
    "# Load prediction files from different classifiers\n",
    "N_CLF = 4\n",
    "X_out1 = np.ndarray((20000, N_CLF))\n",
    "y_train = np.loadtxt('training_data.txt', skiprows = 1)[:, 0]\n",
    "X_test = np.ndarray((10000, N_CLF))\n",
    "print(X_train.shape, y_train.shape, X_test.shape)"
   ]
  },
  {
   "cell_type": "code",
   "execution_count": 63,
   "metadata": {
    "collapsed": true
   },
   "outputs": [],
   "source": [
    "# Neural net\n",
    "X_train[:, 0] = np.loadtxt(\"neural_network_1126pm_prediction_training.csv\", skiprows=1, delimiter=',')[:, 1]\n",
    "X_test[:, 0] = np.loadtxt(\"neural_network_1126pm_prediction_testing.csv\", skiprows=1, delimiter=',')[:, 1]\n",
    "# Logistic\n",
    "X_train[:, 1] = np.loadtxt(\"logic_1042pm_prediction_training.csv\", skiprows=1, delimiter=',')[:, 1]\n",
    "X_test[:, 1] = np.loadtxt(\"logic_1042pm_prediction_testing.csv\", skiprows=1, delimiter=',')[:, 1]\n",
    "# Gradient Boosting\n",
    "X_train[:, 2] = np.loadtxt(\"gdboosting_1106pm_prediction_training.csv\", skiprows=1, delimiter=',')[:, 1]\n",
    "X_test[:, 2] = np.loadtxt(\"gdboosting_1106pm_prediction_testing.csv\", skiprows=1, delimiter=',')[:, 1]\n",
    "# SVM\n",
    "X_train[:, 3] = np.loadtxt(\"svm_train_1225.csv\", skiprows=1, delimiter=',')[:, 1]\n",
    "X_test[:, 3] = np.loadtxt(\"svm_test_1225.csv\", skiprows=1, delimiter=',')[:, 1]\n",
    "# Random Forest\n",
    "# X_train[:, 3] = np.loadtxt(\"forest_1014pm_prediction_training.csv\", skiprows=1, delimiter=',')[:, 1]\n",
    "# X_test[:, 3] = np.loadtxt(\"forest_1014pm_prediction_testing.csv\", skiprows=1, delimiter=',')[:, 1]"
   ]
  },
  {
   "cell_type": "code",
   "execution_count": 64,
   "metadata": {},
   "outputs": [
    {
     "name": "stdout",
     "output_type": "stream",
     "text": [
      "Fitting 3 folds for each of 4 candidates, totalling 12 fits\n",
      "0.90095\n",
      "{'C': 0.01}\n"
     ]
    },
    {
     "name": "stderr",
     "output_type": "stream",
     "text": [
      "[Parallel(n_jobs=1)]: Done  12 out of  12 | elapsed:    0.3s finished\n"
     ]
    }
   ],
   "source": [
    "# Logistic regression on predictions\n",
    "tuned_parameters = {'C': [0.001, 0.004, 0.006, 0.01]}\n",
    "clf = GridSearchCV(LogisticRegression(), tuned_parameters, scoring = 'accuracy', verbose=1)\n",
    "clf.fit(X_train,y_train)\n",
    "print(clf.best_score_)\n",
    "print(clf.best_params_)"
   ]
  },
  {
   "cell_type": "code",
   "execution_count": 65,
   "metadata": {},
   "outputs": [
    {
     "name": "stdout",
     "output_type": "stream",
     "text": [
      "[[ 1.39981157  0.34305058  2.2805805   0.50234226]]\n",
      "\n"
     ]
    }
   ],
   "source": [
    "print(clf.best_estimator_.coef_)\n",
    "print()"
   ]
  },
  {
   "cell_type": "code",
   "execution_count": 56,
   "metadata": {
    "collapsed": true
   },
   "outputs": [],
   "source": [
    "# Predict the test file\n",
    "pred = clf.predict(X_test)\n",
    "super_threshold_indices = pred >= 0.5\n",
    "pred.fill(0)\n",
    "pred[super_threshold_indices] = 1\n",
    "\n",
    "submission = [[i+1, int(pred[i])] for i in range(len(pred))]\n",
    "submission.insert(0, ['Id','Prediction'])\n",
    "with open('ensemble_test_prediction.csv', 'w') as f:\n",
    "    for line in submission:\n",
    "        f.write(','.join(map(str, line)) + '\\n')"
   ]
  },
  {
   "cell_type": "code",
   "execution_count": 66,
   "metadata": {},
   "outputs": [
    {
     "name": "stdout",
     "output_type": "stream",
     "text": [
      "667\n",
      "584\n",
      "313\n",
      "650\n",
      "1890\n",
      "1765\n"
     ]
    }
   ],
   "source": [
    "def mismatch(y1, y2):\n",
    "    return np.sum(np.not_equal(y1, y2))\n",
    "print(mismatch(pred, X_test[:, 0]))\n",
    "print(mismatch(pred, X_test[:, 1]))\n",
    "print(mismatch(pred, X_test[:, 2]))\n",
    "print(mismatch(pred, X_test[:, 3]))\n",
    "\n",
    "\n",
    "train_pred = clf.predict(X_train)\n",
    "print(mismatch(train_pred, y_train))\n",
    "print(mismatch(X_train[:, 2], y_train))"
   ]
  },
  {
   "cell_type": "code",
   "execution_count": null,
   "metadata": {
    "collapsed": true
   },
   "outputs": [],
   "source": []
  }
 ],
 "metadata": {
  "kernelspec": {
   "display_name": "Python 3",
   "language": "python",
   "name": "python3"
  },
  "language_info": {
   "codemirror_mode": {
    "name": "ipython",
    "version": 3
   },
   "file_extension": ".py",
   "mimetype": "text/x-python",
   "name": "python",
   "nbconvert_exporter": "python",
   "pygments_lexer": "ipython3",
   "version": "3.6.2"
  }
 },
 "nbformat": 4,
 "nbformat_minor": 2
}
