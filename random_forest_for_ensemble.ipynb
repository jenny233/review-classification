{
 "cells": [
  {
   "cell_type": "code",
   "execution_count": 1,
   "metadata": {},
   "outputs": [],
   "source": [
    "from sklearn import tree\n",
    "from sklearn.ensemble import RandomForestClassifier\n",
    "from sklearn.model_selection import GridSearchCV\n",
    "import matplotlib.pyplot as plt\n",
    "import numpy as np\n",
    "from sklearn.model_selection import KFold\n",
    "\n",
    "# Seed the random number generator:\n",
    "np.random.seed(1)"
   ]
  },
  {
   "cell_type": "code",
   "execution_count": 2,
   "metadata": {},
   "outputs": [],
   "source": [
    "def E(y, predictions):\n",
    "    return np.sum(np.not_equal(y, predictions)) / len(y)"
   ]
  },
  {
   "cell_type": "code",
   "execution_count": 4,
   "metadata": {},
   "outputs": [
    {
     "name": "stdout",
     "output_type": "stream",
     "text": [
      "X_train shape: (20000, 1000)\n",
      "y_train shape: (20000,)\n",
      "normalized\n",
      "IN: [    0     1     2 ..., 19996 19997 19998] OUT: [    8     9    12 ..., 19990 19995 19999]\n",
      "(13333, 1000) (6667, 1000)\n",
      "OUT1: [   0    2    3 ..., 6663 6664 6666] OUT2: [   1    4    6 ..., 6660 6662 6665]\n",
      "(4444, 1000) (2223, 1000)\n"
     ]
    }
   ],
   "source": [
    "# Load training text file\n",
    "Data_train = np.loadtxt('training_data.txt', skiprows = 1)\n",
    "X_train= Data_train[0:20000, 1:]\n",
    "y_train= Data_train[0:20000, 0]\n",
    "X_test = np.loadtxt('test_data.txt', skiprows = 1)\n",
    "print(\"X_train shape:\", X_train.shape)\n",
    "print(\"y_train shape:\", y_train.shape)\n",
    "\n",
    "\n",
    "# Normalize training data\n",
    "for i in range(len(X_train[0])):\n",
    "    col = X_train[:, i]\n",
    "    mean = np.mean(col)\n",
    "    std = np.std(col)\n",
    "    X_train[:, i] = (col - mean) / std\n",
    "    X_test[:, i] = (X_test[:,i] - mean) / std\n",
    "    \n",
    "print('normalized')\n",
    "\n",
    "kf = KFold(n_splits=3, shuffle=True, random_state=0)\n",
    "in_index, out_index = list(kf.split(X_train))[0]\n",
    "print(\"IN:\", in_index, \"OUT:\", out_index)\n",
    "X_in, X_out = X_train[in_index], X_train[out_index]\n",
    "y_in, y_out = y_train[in_index], y_train[out_index]\n",
    "print(X_in.shape, X_out.shape)\n",
    "out_index_1, out_index_2 = list(kf.split(X_out))[0]\n",
    "print(\"OUT1:\", out_index_1, \"OUT2:\", out_index_2)\n",
    "X_out_1, X_out_2 = X_out[out_index_1], X_out[out_index_2]\n",
    "y_out_1, y_out = y_out[out_index_1], y_out[out_index_2]\n",
    "print(X_out_1.shape, X_out_2.shape)"
   ]
  },
  {
   "cell_type": "code",
   "execution_count": 4,
   "metadata": {},
   "outputs": [
    {
     "name": "stdout",
     "output_type": "stream",
     "text": [
      "normalized\n"
     ]
    }
   ],
   "source": []
  },
  {
   "cell_type": "code",
   "execution_count": 10,
   "metadata": {},
   "outputs": [
    {
     "name": "stdout",
     "output_type": "stream",
     "text": [
      "0.82449561239\n",
      "{'max_depth': 50, 'n_estimators': 1000}\n"
     ]
    }
   ],
   "source": [
    "tuned_parameters = {'n_estimators': [1000], 'max_depth': [50]}\n",
    "clf = GridSearchCV(RandomForestClassifier(), tuned_parameters, scoring = 'accuracy')\n",
    "clf.fit(X_in, y_in)\n",
    "print(clf.best_score_)\n",
    "print(clf.best_params_)"
   ]
  },
  {
   "cell_type": "code",
   "execution_count": 11,
   "metadata": {},
   "outputs": [],
   "source": [
    "prediction = clf.predict(X_out_1)\n",
    "submission = [[i+1, int(prediction[i])] for i in range(len(prediction))]\n",
    "submission.insert(0, ['Id','Prediction'])\n",
    "with open('forest_1014pm_prediction_training.csv', 'w') as f:\n",
    "    for line in submission:\n",
    "        f.write(','.join(map(str, line)) + '\\n')"
   ]
  },
  {
   "cell_type": "code",
   "execution_count": 15,
   "metadata": {},
   "outputs": [],
   "source": [
    "pred = clf.predict(X_test)\n",
    "submission = [[i+1, int(pred[i])] for i in range(len(pred))]\n",
    "submission.insert(0, ['Id','Prediction'])\n",
    "with open('forest_1014pm_prediction_testing.csv', 'w') as f:\n",
    "    for line in submission:\n",
    "        f.write(','.join(map(str, line)) + '\\n')"
   ]
  },
  {
   "cell_type": "code",
   "execution_count": null,
   "metadata": {
    "collapsed": true
   },
   "outputs": [],
   "source": []
  }
 ],
 "metadata": {
  "kernelspec": {
   "display_name": "Python 3",
   "language": "python",
   "name": "python3"
  },
  "language_info": {
   "codemirror_mode": {
    "name": "ipython",
    "version": 3
   },
   "file_extension": ".py",
   "mimetype": "text/x-python",
   "name": "python",
   "nbconvert_exporter": "python",
   "pygments_lexer": "ipython3",
   "version": "3.6.0"
  }
 },
 "nbformat": 4,
 "nbformat_minor": 2
}
