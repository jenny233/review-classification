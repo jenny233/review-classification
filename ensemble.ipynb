{
 "cells": [
  {
   "cell_type": "code",
   "execution_count": 18,
   "metadata": {},
   "outputs": [
    {
     "name": "stdout",
     "output_type": "stream",
     "text": [
      "(20000, 3) (20000,) (10000, 1000)\n"
     ]
    }
   ],
   "source": [
    "import numpy as np\n",
    "import random\n",
    "import keras\n",
    "\n",
    "# Load prediction files from different classifiers\n",
    "N_CLF = 4\n",
    "X_train = np.ndarray((20000, N_CLF))\n",
    "y_train = np.loadtxt('training_data.txt', skiprows = 1)[:, 0]\n",
    "X_test = np.loadtxt('test_data.txt', skiprows = 1)\n",
    "print(X_train.shape, y_train.shape, X_test.shape)"
   ]
  },
  {
   "cell_type": "code",
   "execution_count": 15,
   "metadata": {},
   "outputs": [],
   "source": [
    "# SVM\n",
    "X_train[:, 0] = np.loadtxt(\"submission_svm.csv\", skiprows=1)[:, 0]\n",
    "# Neural net\n",
    "X_train[:, 1] = np.loadtxt(\"submission_neural_net.csv\", skiprows=1)[:, 0]\n",
    "# Logistic\n",
    "X_train[:, 2] = np.loadtxt(\"submission_logistic.csv\", skiprows=1)[:, 0]\n",
    "# Gradient boost\n",
    "X_train[:, 3] = np.loadtxt(\"submission_gdboost.csv\", skiprows=1)[:, 0]"
   ]
  },
  {
   "cell_type": "code",
   "execution_count": null,
   "metadata": {
    "collapsed": true
   },
   "outputs": [],
   "source": [
    "# Logistic regression on predictions\n"
   ]
  }
 ],
 "metadata": {
  "kernelspec": {
   "display_name": "Python 3",
   "language": "python",
   "name": "python3"
  },
  "language_info": {
   "codemirror_mode": {
    "name": "ipython",
    "version": 3
   },
   "file_extension": ".py",
   "mimetype": "text/x-python",
   "name": "python",
   "nbconvert_exporter": "python",
   "pygments_lexer": "ipython3",
   "version": "3.6.2"
  }
 },
 "nbformat": 4,
 "nbformat_minor": 2
}
