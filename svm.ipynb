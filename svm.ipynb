{
 "cells": [
  {
   "cell_type": "code",
   "execution_count": 1,
   "metadata": {},
   "outputs": [],
   "source": [
    "import numpy as np\n",
    "from sklearn.svm import SVC\n",
    "from sklearn.model_selection import KFold\n",
    "from sklearn.model_selection import GridSearchCV"
   ]
  },
  {
   "cell_type": "code",
   "execution_count": 2,
   "metadata": {},
   "outputs": [],
   "source": [
    "def E(y, predictions):\n",
    "    return np.sum(np.not_equal(y, predictions)) / len(y)"
   ]
  },
  {
   "cell_type": "code",
   "execution_count": 3,
   "metadata": {},
   "outputs": [
    {
     "name": "stdout",
     "output_type": "stream",
     "text": [
      "X_train shape: (20000, 1000)\n",
      "y_train shape: (20000,)\n"
     ]
    }
   ],
   "source": [
    "# Load training text file\n",
    "Data_train = np.loadtxt('training_data.txt', skiprows = 1)\n",
    "X_train = Data_train[0:20000, 1:]\n",
    "y_train = Data_train[0:20000, 0]\n",
    "print(\"X_train shape:\", X_train.shape)\n",
    "print(\"y_train shape:\", y_train.shape)"
   ]
  },
  {
   "cell_type": "code",
   "execution_count": null,
   "metadata": {},
   "outputs": [],
   "source": [
    "# Normalize training data\n",
    "for i in range(len(X_train[0])):\n",
    "    col = X_train[:, i]\n",
    "    mean = np.mean(col)\n",
    "    std = np.std(col)\n",
    "    X_train[:, i] = (col - mean) / std\n",
    "    "
   ]
  },
  {
   "cell_type": "code",
   "execution_count": null,
   "metadata": {},
   "outputs": [],
   "source": [
    "tuned_parameters = [{'kernel': ['rbf'], 'gamma': [1e-3, 1e-4],\n",
    "                     'C': [0.1, 1, 10]},\n",
    "                    {'kernel': ['linear'], 'C': [0.01, 0.1, 1, 10]}]\n",
    "clf = GridSearchCV(SVC(), tuned_parameters, scoring = 'accuracy')\n",
    "clf.fit(X_train, y_train)\n",
    "print(gridsearch.best_score_)\n",
    "print(gridsearch.best_params_)"
   ]
  },
  {
   "cell_type": "code",
   "execution_count": 5,
   "metadata": {},
   "outputs": [
    {
     "name": "stdout",
     "output_type": "stream",
     "text": [
      "TRAIN: 2400 VALIDATION: 600\n",
      "e_in = 0.0\n",
      "e_val = 0.226666666667\n",
      "TRAIN: 2400 VALIDATION: 600\n",
      "e_in = 0.0\n",
      "e_val = 0.211666666667\n",
      "TRAIN: 2400 VALIDATION: 600\n",
      "e_in = 0.0\n",
      "e_val = 0.216666666667\n",
      "TRAIN: 2400 VALIDATION: 600\n",
      "e_in = 0.0\n",
      "e_val = 0.233333333333\n",
      "TRAIN: 2400 VALIDATION: 600\n",
      "e_in = 0.0\n",
      "e_val = 0.211666666667\n"
     ]
    }
   ],
   "source": [
    "# 5-fold cross validation: don't run this on the actual training\n",
    "\n",
    "clf = SVC(kernel=\"linear\", C=1)\n",
    "kf = KFold(n_splits=5, shuffle=True)\n",
    "\n",
    "E_in = []\n",
    "E_val = []\n",
    "\n",
    "# Truncate the dataset to see faster results\n",
    "# X_train = X_train[:3000]\n",
    "# y_train = y_train[:3000]\n",
    "\n",
    "for train_indices, val_indices in kf.split(X_train):\n",
    "    print(\"TRAIN:\", len(train_indices), \"VALIDATION:\", len(val_indices))\n",
    "    \n",
    "    # X_in and X_val are subsets of X_train\n",
    "    X_in = X_train[train_indices]\n",
    "    X_val = X_train[val_indices]\n",
    "    y_in = y_train[train_indices]\n",
    "    y_val = y_train[val_indices]\n",
    "    \n",
    "    # Fit\n",
    "    clf.fit(X_in, y_in)\n",
    "    \n",
    "    # Compute errors\n",
    "    e_in = E(y_in, clf.predict(X_in))\n",
    "    e_val = E(y_val, clf.predict(X_val))\n",
    "    E_in.append(e_in)\n",
    "    E_val.append(e_val)\n",
    "    print(\"e_in =\", e_in)\n",
    "    print(\"e_val =\", e_val)"
   ]
  },
  {
   "cell_type": "code",
   "execution_count": null,
   "metadata": {
    "collapsed": true
   },
   "outputs": [],
   "source": [
    "# Actual training and making predictions\n",
    "X_test = np.loadtxt('test_data.txt', skiprows = 1)\n",
    "\n",
    "clf = SVC(kernel=\"linear\", C=0.01, verbose=1)\n",
    "clf.fit(X_train, y_train)\n",
    "pred = clf.predict(X_test)\n",
    "submission = [[i+1, int(pred[i])] for i in range(len(pred))]\n",
    "submission.insert(0, ['Id','Prediction'])\n",
    "with open('submission.csv', 'w') as f:\n",
    "    for line in submission:\n",
    "        f.write(','.join(map(str, line)) + '\\n')"
   ]
  }
 ],
 "metadata": {
  "kernelspec": {
   "display_name": "Python 3",
   "language": "python",
   "name": "python3"
  },
  "language_info": {
   "codemirror_mode": {
    "name": "ipython",
    "version": 3
   },
   "file_extension": ".py",
   "mimetype": "text/x-python",
   "name": "python",
   "nbconvert_exporter": "python",
   "pygments_lexer": "ipython3",
   "version": "3.6.0"
  }
 },
 "nbformat": 4,
 "nbformat_minor": 2
}
