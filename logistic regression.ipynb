{
 "cells": [
  {
   "cell_type": "code",
   "execution_count": 1,
   "metadata": {},
   "outputs": [],
   "source": [
    "import numpy as np\n",
    "from matplotlib import pyplot as plt\n",
    "from sklearn.linear_model import LogisticRegression\n",
    "from sklearn.linear_model import Ridge\n",
    "from sklearn.model_selection import KFold\n",
    "%matplotlib inline"
   ]
  },
  {
   "cell_type": "code",
   "execution_count": 2,
   "metadata": {},
   "outputs": [
    {
     "name": "stdout",
     "output_type": "stream",
     "text": [
      "X_train shape: (20000, 1000)\n",
      "y_train shape: (20000,)\n"
     ]
    }
   ],
   "source": [
    "# Load training text file\n",
    "Data_train = np.loadtxt('training_data.txt', skiprows = 1)\n",
    "X_train = Data_train[:, 1:]\n",
    "y_train = Data_train[:, 0]\n",
    "print(\"X_train shape:\", X_train.shape)\n",
    "print(\"y_train shape:\", y_train.shape)"
   ]
  },
  {
   "cell_type": "code",
   "execution_count": 46,
   "metadata": {
    "collapsed": true
   },
   "outputs": [],
   "source": [
    "for i in range(len(X_train[0])):\n",
    "    col = X_train[:, i]\n",
    "    mean = np.mean(col)\n",
    "    std = np.std(col)\n",
    "    X_train[:, i] = (col - mean) / std"
   ]
  },
  {
   "cell_type": "code",
   "execution_count": 3,
   "metadata": {},
   "outputs": [],
   "source": [
    "logic = LogisticRegression(C = 10000)\n",
    "logic.fit(X_train,y_train)\n",
    "w= logic.coef_\n",
    "\n",
    "loss = 0.0\n",
    "l = 0.0\n",
    "for i in range(len(y_train)):\n",
    "    if np.sign(logic.predict(X_train[[i]])) != np.sign(y_train[i]):\n",
    "        l += 1\n",
    "    a = 1.0 / (1.0 + np.exp(-y_train[i]*np.dot(w[0], X_train[i])))\n",
    "    loss -= np.log(a)"
   ]
  },
  {
   "cell_type": "code",
   "execution_count": 50,
   "metadata": {},
   "outputs": [],
   "source": [
    "def E(y, predictions):\n",
    "    return np.sum(np.not_equal(y, predictions)) / len(y)\n",
    "c_vals = [1,5,10,50,100,500,1000,5000,10000,50000]\n",
    "in_error = []\n",
    "val_error = []\n",
    "for i in c_vals:\n",
    "    logic = LogisticRegression(C = i)\n",
    "    kf = KFold(n_splits=10, shuffle=True)\n",
    "    \n",
    "    E_in = []\n",
    "    E_val = []\n",
    "    for train_indices, val_indices in kf.split(X_train):\n",
    "\n",
    "        # X_in and X_val are subsets of X_train\n",
    "        X_in = X_train[train_indices]\n",
    "        X_val = X_train[val_indices]\n",
    "        y_in = y_train[train_indices]\n",
    "        y_val = y_train[val_indices]\n",
    "\n",
    "        # Fit\n",
    "        logic.fit(X_in, y_in)\n",
    "\n",
    "        # Compute errors\n",
    "        e_in = E(y_in, logic.predict(X_in))\n",
    "        e_val = E(y_val, logic.predict(X_val))\n",
    "        E_in.append(e_in)\n",
    "        E_val.append(e_val)\n",
    "    in_error.append(E_in)\n",
    "    val_error.append(E_val)"
   ]
  },
  {
   "cell_type": "code",
   "execution_count": 51,
   "metadata": {},
   "outputs": [
    {
     "name": "stdout",
     "output_type": "stream",
     "text": [
      "1 : In sample average: 0.122961111111   Validation average: 0.1536\n",
      "5 : In sample average: 0.122811111111   Validation average: 0.1547\n",
      "10 : In sample average: 0.122677777778   Validation average: 0.1546\n",
      "50 : In sample average: 0.122394444444   Validation average: 0.15215\n",
      "100 : In sample average: 0.122738888889   Validation average: 0.15235\n",
      "500 : In sample average: 0.122888888889   Validation average: 0.15075\n",
      "1000 : In sample average: 0.1227   Validation average: 0.1541\n",
      "5000 : In sample average: 0.122905555556   Validation average: 0.15275\n"
     ]
    },
    {
     "data": {
      "image/png": "[encoded data removed]",
      "text/plain": [
       "<matplotlib.figure.Figure at 0x2d1fee07d30>"
      ]
     },
     "metadata": {},
     "output_type": "display_data"
    }
   ],
   "source": [
    "for i in range(len(c_vals)-2):\n",
    "    plt.plot(c_vals[i], np.average(in_error[i]), marker = 'o')\n",
    "    plt.plot(c_vals[i],np.average(val_error[i]),marker = 'o')\n",
    "    print(c_vals[i], \": In sample average:\", np.average(in_error[i]) , \"  Validation average:\", np.average(val_error[i]))"
   ]
  },
  {
   "cell_type": "code",
   "execution_count": 52,
   "metadata": {},
   "outputs": [],
   "source": [
    "logic = LogisticRegression(C = 50)\n",
    "logic.fit(X_train,y_train)\n",
    "w= logic.coef_\n",
    "\n",
    "loss = 0.0\n",
    "l = 0.0\n",
    "for i in range(len(y_train)):\n",
    "    if np.sign(logic.predict(X_train[[i]])) != np.sign(y_train[i]):\n",
    "        l += 1\n",
    "    a = 1.0 / (1.0 + np.exp(-y_train[i]*np.dot(w[0], X_train[i])))\n",
    "    loss -= np.log(a)"
   ]
  },
  {
   "cell_type": "code",
   "execution_count": 53,
   "metadata": {},
   "outputs": [
    {
     "data": {
      "text/plain": [
       "2488.0"
      ]
     },
     "execution_count": 53,
     "metadata": {},
     "output_type": "execute_result"
    }
   ],
   "source": [
    "l"
   ]
  },
  {
   "cell_type": "code",
   "execution_count": 54,
   "metadata": {},
   "outputs": [
    {
     "data": {
      "text/plain": [
       "0.8756"
      ]
     },
     "execution_count": 54,
     "metadata": {},
     "output_type": "execute_result"
    }
   ],
   "source": [
    "1-2488/20000.0"
   ]
  },
  {
   "cell_type": "code",
   "execution_count": null,
   "metadata": {
    "collapsed": true
   },
   "outputs": [],
   "source": []
  }
 ],
 "metadata": {
  "kernelspec": {
   "display_name": "Python 3",
   "language": "python",
   "name": "python3"
  },
  "language_info": {
   "codemirror_mode": {
    "name": "ipython",
    "version": 3
   },
   "file_extension": ".py",
   "mimetype": "text/x-python",
   "name": "python",
   "nbconvert_exporter": "python",
   "pygments_lexer": "ipython3",
   "version": "3.6.2"
  }
 },
 "nbformat": 4,
 "nbformat_minor": 2
}
